{
 "cells": [
  {
   "cell_type": "code",
   "execution_count": null,
   "id": "e711d19d",
   "metadata": {},
   "outputs": [],
   "source": [
    "import pandas as pd\n",
    "import numpy as np\n",
    "import matplotlib.pyplot as plt\n",
    "import seaborn as sns\n",
    "import re\n",
    "import nltk\n",
    "nltk.download('punkt')\n",
    "\n",
    "from pathlib import Path\n"
   ]
  },
  {
   "cell_type": "code",
   "execution_count": null,
   "id": "d6677ce3",
   "metadata": {},
   "outputs": [],
   "source": [
    "df = pd.read_csv('../data/raw_complaints.csv')\n",
    "df.shape, df.columns\n"
   ]
  },
  {
   "cell_type": "code",
   "execution_count": null,
   "id": "267a091d",
   "metadata": {},
   "outputs": [],
   "source": [
    "df.head()\n",
    "df.info()\n",
    "df.describe(include='all')\n"
   ]
  },
  {
   "cell_type": "code",
   "execution_count": null,
   "id": "c8350abc",
   "metadata": {},
   "outputs": [],
   "source": [
    "plt.figure(figsize=(10,6))\n",
    "df['Product'].value_counts().plot(kind='bar')\n",
    "plt.title('Distribution of Complaints by Product')\n",
    "plt.xticks(rotation=45)\n",
    "plt.tight_layout()\n",
    "plt.show()\n"
   ]
  },
  {
   "cell_type": "code",
   "execution_count": null,
   "id": "6460e398",
   "metadata": {},
   "outputs": [],
   "source": [
    "df['NarrativeLength'] = df['Consumer complaint narrative'].fillna(\"\").apply(lambda x: len(x.split()))\n",
    "\n",
    "plt.figure(figsize=(10,6))\n",
    "sns.histplot(df['NarrativeLength'], bins=50, kde=True)\n",
    "plt.title('Distribution of Narrative Word Counts')\n",
    "plt.xlabel('Word Count')\n",
    "plt.show()\n"
   ]
  },
  {
   "cell_type": "code",
   "execution_count": null,
   "id": "48927f76",
   "metadata": {},
   "outputs": [],
   "source": [
    "df['NarrativeLength'] = df['Consumer complaint narrative'].fillna(\"\").apply(lambda x: len(x.split()))\n",
    "\n",
    "plt.figure(figsize=(10,6))\n",
    "sns.histplot(df['NarrativeLength'], bins=50, kde=True)\n",
    "plt.title('Distribution of Narrative Word Counts')\n",
    "plt.xlabel('Word Count')\n",
    "plt.show()\n"
   ]
  },
  {
   "cell_type": "code",
   "execution_count": null,
   "id": "c53e8cc3",
   "metadata": {},
   "outputs": [],
   "source": [
    "n_with = df['Consumer complaint narrative'].notna().sum()\n",
    "n_without = df['Consumer complaint narrative'].isna().sum()\n",
    "print(f\"With narratives: {n_with}, Without narratives: {n_without}\")\n"
   ]
  },
  {
   "cell_type": "code",
   "execution_count": null,
   "id": "41d243e0",
   "metadata": {},
   "outputs": [],
   "source": [
    "target_products = [\n",
    "    'Credit card', 'Personal loan',\n",
    "    'Buy Now, Pay Later', 'Savings account',\n",
    "    'Money transfer, virtual currency, or money service'\n",
    "]\n",
    "\n",
    "df_filtered = df[df['Product'].isin(target_products)].copy()\n"
   ]
  },
  {
   "cell_type": "code",
   "execution_count": null,
   "id": "abd20e42",
   "metadata": {},
   "outputs": [],
   "source": [
    "df_filtered = df_filtered[df_filtered['Consumer complaint narrative'].notna()]\n"
   ]
  },
  {
   "cell_type": "code",
   "execution_count": null,
   "id": "0cfa13b8",
   "metadata": {},
   "outputs": [],
   "source": [
    "def clean_text(text):\n",
    "    text = text.lower()\n",
    "    text = re.sub(r'[^a-zA-Z0-9\\s]', '', text)  # remove special characters\n",
    "    text = re.sub(r'\\bi am writing.*?\\.', '', text)  # remove boilerplate intro\n",
    "    text = re.sub(r'\\s+', ' ', text).strip()\n",
    "    return text\n",
    "\n",
    "df_filtered['Cleaned_Narrative'] = df_filtered['Consumer complaint narrative'].apply(clean_text)\n"
   ]
  },
  {
   "cell_type": "code",
   "execution_count": null,
   "id": "fee98ceb",
   "metadata": {},
   "outputs": [],
   "source": [
    "output_path = Path('../data/filtered_complaints.csv')\n",
    "df_filtered.to_csv(output_path, index=False)\n",
    "print(f\"Filtered dataset saved to {output_path}\")\n"
   ]
  },
  {
   "cell_type": "code",
   "execution_count": null,
   "id": "d99bab2a",
   "metadata": {},
   "outputs": [],
   "source": []
  }
 ],
 "metadata": {
  "kernelspec": {
   "display_name": "env",
   "language": "python",
   "name": "python3"
  },
  "language_info": {
   "name": "python",
   "version": "3.12.3"
  }
 },
 "nbformat": 4,
 "nbformat_minor": 5
}
